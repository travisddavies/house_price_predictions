{
 "cells": [
  {
   "cell_type": "code",
   "execution_count": 2,
   "id": "f89dc16c",
   "metadata": {
    "_cell_guid": "b1076dfc-b9ad-4769-8c92-a6c4dae69d19",
    "_uuid": "8f2839f25d086af736a60e9eeb907d3b93b6e0e5",
    "execution": {
     "iopub.execute_input": "2023-01-29T14:31:30.359671Z",
     "iopub.status.busy": "2023-01-29T14:31:30.358620Z",
     "iopub.status.idle": "2023-01-29T14:31:30.372904Z",
     "shell.execute_reply": "2023-01-29T14:31:30.371620Z"
    },
    "papermill": {
     "duration": 0.023868,
     "end_time": "2023-01-29T14:31:30.375900",
     "exception": false,
     "start_time": "2023-01-29T14:31:30.352032",
     "status": "completed"
    },
    "tags": []
   },
   "outputs": [
    {
     "ename": "ModuleNotFoundError",
     "evalue": "No module named 'pandas'",
     "output_type": "error",
     "traceback": [
      "\u001b[1;31m---------------------------------------------------------------------------\u001b[0m",
      "\u001b[1;31mModuleNotFoundError\u001b[0m                       Traceback (most recent call last)",
      "Cell \u001b[1;32mIn[2], line 6\u001b[0m\n\u001b[0;32m      1\u001b[0m \u001b[39m# This Python 3 environment comes with many helpful analytics libraries installed\u001b[39;00m\n\u001b[0;32m      2\u001b[0m \u001b[39m# It is defined by the kaggle/python Docker image: https://github.com/kaggle/docker-python\u001b[39;00m\n\u001b[0;32m      3\u001b[0m \u001b[39m# For example, here's several helpful packages to load\u001b[39;00m\n\u001b[0;32m      5\u001b[0m \u001b[39mimport\u001b[39;00m \u001b[39mnumpy\u001b[39;00m \u001b[39mas\u001b[39;00m \u001b[39mnp\u001b[39;00m \u001b[39m# linear algebra\u001b[39;00m\n\u001b[1;32m----> 6\u001b[0m \u001b[39mimport\u001b[39;00m \u001b[39mpandas\u001b[39;00m \u001b[39mas\u001b[39;00m \u001b[39mpd\u001b[39;00m \u001b[39m# data processing, CSV file I/O (e.g. pd.read_csv)\u001b[39;00m\n\u001b[0;32m      8\u001b[0m \u001b[39m# Input data files are available in the read-only \"../input/\" directory\u001b[39;00m\n\u001b[0;32m      9\u001b[0m \u001b[39m# For example, running this (by clicking run or pressing Shift+Enter) will list all files under the input directory\u001b[39;00m\n\u001b[0;32m     11\u001b[0m \u001b[39mimport\u001b[39;00m \u001b[39mos\u001b[39;00m\n",
      "\u001b[1;31mModuleNotFoundError\u001b[0m: No module named 'pandas'"
     ]
    }
   ],
   "source": [
    "# This Python 3 environment comes with many helpful analytics libraries installed\n",
    "# It is defined by the kaggle/python Docker image: https://github.com/kaggle/docker-python\n",
    "# For example, here's several helpful packages to load\n",
    "\n",
    "import numpy as np # linear algebra\n",
    "import pandas as pd # data processing, CSV file I/O (e.g. pd.read_csv)\n",
    "\n",
    "# Input data files are available in the read-only \"../input/\" directory\n",
    "# For example, running this (by clicking run or pressing Shift+Enter) will list all files under the input directory\n",
    "\n",
    "import os\n",
    "for dirname, _, filenames in os.walk('/kaggle/input'):\n",
    "    for filename in filenames:\n",
    "        print(os.path.join(dirname, filename))\n",
    "\n",
    "# You can write up to 20GB to the current directory (/kaggle/working/) that gets preserved as output when you create a version using \"Save & Run All\" \n",
    "# You can also write temporary files to /kaggle/temp/, but they won't be saved outside of the current session"
   ]
  },
  {
   "cell_type": "markdown",
   "id": "43d57399",
   "metadata": {
    "papermill": {
     "duration": 0.003565,
     "end_time": "2023-01-29T14:31:30.383676",
     "exception": false,
     "start_time": "2023-01-29T14:31:30.380111",
     "status": "completed"
    },
    "tags": []
   },
   "source": [
    "## Step 1: \n",
    "Import modules and load data"
   ]
  },
  {
   "cell_type": "code",
   "execution_count": 2,
   "id": "5b3cfeba",
   "metadata": {
    "execution": {
     "iopub.execute_input": "2023-01-29T14:31:30.393604Z",
     "iopub.status.busy": "2023-01-29T14:31:30.392857Z",
     "iopub.status.idle": "2023-01-29T14:31:31.678583Z",
     "shell.execute_reply": "2023-01-29T14:31:31.677129Z"
    },
    "papermill": {
     "duration": 1.294007,
     "end_time": "2023-01-29T14:31:31.681502",
     "exception": false,
     "start_time": "2023-01-29T14:31:30.387495",
     "status": "completed"
    },
    "tags": []
   },
   "outputs": [],
   "source": [
    "from sklearn.ensemble import RandomForestRegressor\n",
    "from sklearn.metrics import mean_absolute_error\n",
    "from sklearn.impute import SimpleImputer\n",
    "from sklearn.model_selection import train_test_split\n",
    "\n",
    "home_data_path = 'input/home-data-for-ml-course/train.csv'\n",
    "home_data = pd.read_csv(home_data_path)"
   ]
  },
  {
   "cell_type": "markdown",
   "id": "a6940b69",
   "metadata": {
    "papermill": {
     "duration": 0.003563,
     "end_time": "2023-01-29T14:31:31.689446",
     "exception": false,
     "start_time": "2023-01-29T14:31:31.685883",
     "status": "completed"
    },
    "tags": []
   },
   "source": [
    "## Step 2\n",
    "Check out the data"
   ]
  },
  {
   "cell_type": "code",
   "execution_count": 3,
   "id": "3428d179",
   "metadata": {
    "execution": {
     "iopub.execute_input": "2023-01-29T14:31:31.699540Z",
     "iopub.status.busy": "2023-01-29T14:31:31.698587Z",
     "iopub.status.idle": "2023-01-29T14:31:31.817009Z",
     "shell.execute_reply": "2023-01-29T14:31:31.814933Z"
    },
    "papermill": {
     "duration": 0.127007,
     "end_time": "2023-01-29T14:31:31.820304",
     "exception": false,
     "start_time": "2023-01-29T14:31:31.693297",
     "status": "completed"
    },
    "tags": []
   },
   "outputs": [
    {
     "name": "stdout",
     "output_type": "stream",
     "text": [
      "Index(['Id', 'MSSubClass', 'MSZoning', 'LotFrontage', 'LotArea', 'Street',\n",
      "       'Alley', 'LotShape', 'LandContour', 'Utilities', 'LotConfig',\n",
      "       'LandSlope', 'Neighborhood', 'Condition1', 'Condition2', 'BldgType',\n",
      "       'HouseStyle', 'OverallQual', 'OverallCond', 'YearBuilt', 'YearRemodAdd',\n",
      "       'RoofStyle', 'RoofMatl', 'Exterior1st', 'Exterior2nd', 'MasVnrType',\n",
      "       'MasVnrArea', 'ExterQual', 'ExterCond', 'Foundation', 'BsmtQual',\n",
      "       'BsmtCond', 'BsmtExposure', 'BsmtFinType1', 'BsmtFinSF1',\n",
      "       'BsmtFinType2', 'BsmtFinSF2', 'BsmtUnfSF', 'TotalBsmtSF', 'Heating',\n",
      "       'HeatingQC', 'CentralAir', 'Electrical', '1stFlrSF', '2ndFlrSF',\n",
      "       'LowQualFinSF', 'GrLivArea', 'BsmtFullBath', 'BsmtHalfBath', 'FullBath',\n",
      "       'HalfBath', 'BedroomAbvGr', 'KitchenAbvGr', 'KitchenQual',\n",
      "       'TotRmsAbvGrd', 'Functional', 'Fireplaces', 'FireplaceQu', 'GarageType',\n",
      "       'GarageYrBlt', 'GarageFinish', 'GarageCars', 'GarageArea', 'GarageQual',\n",
      "       'GarageCond', 'PavedDrive', 'WoodDeckSF', 'OpenPorchSF',\n",
      "       'EnclosedPorch', '3SsnPorch', 'ScreenPorch', 'PoolArea', 'PoolQC',\n",
      "       'Fence', 'MiscFeature', 'MiscVal', 'MoSold', 'YrSold', 'SaleType',\n",
      "       'SaleCondition', 'SalePrice'],\n",
      "      dtype='object')\n",
      "                Id   MSSubClass  LotFrontage        LotArea  OverallQual  \\\n",
      "count  1460.000000  1460.000000  1201.000000    1460.000000  1460.000000   \n",
      "mean    730.500000    56.897260    70.049958   10516.828082     6.099315   \n",
      "std     421.610009    42.300571    24.284752    9981.264932     1.382997   \n",
      "min       1.000000    20.000000    21.000000    1300.000000     1.000000   \n",
      "25%     365.750000    20.000000    59.000000    7553.500000     5.000000   \n",
      "50%     730.500000    50.000000    69.000000    9478.500000     6.000000   \n",
      "75%    1095.250000    70.000000    80.000000   11601.500000     7.000000   \n",
      "max    1460.000000   190.000000   313.000000  215245.000000    10.000000   \n",
      "\n",
      "       OverallCond    YearBuilt  YearRemodAdd   MasVnrArea   BsmtFinSF1  ...  \\\n",
      "count  1460.000000  1460.000000   1460.000000  1452.000000  1460.000000  ...   \n",
      "mean      5.575342  1971.267808   1984.865753   103.685262   443.639726  ...   \n",
      "std       1.112799    30.202904     20.645407   181.066207   456.098091  ...   \n",
      "min       1.000000  1872.000000   1950.000000     0.000000     0.000000  ...   \n",
      "25%       5.000000  1954.000000   1967.000000     0.000000     0.000000  ...   \n",
      "50%       5.000000  1973.000000   1994.000000     0.000000   383.500000  ...   \n",
      "75%       6.000000  2000.000000   2004.000000   166.000000   712.250000  ...   \n",
      "max       9.000000  2010.000000   2010.000000  1600.000000  5644.000000  ...   \n",
      "\n",
      "        WoodDeckSF  OpenPorchSF  EnclosedPorch    3SsnPorch  ScreenPorch  \\\n",
      "count  1460.000000  1460.000000    1460.000000  1460.000000  1460.000000   \n",
      "mean     94.244521    46.660274      21.954110     3.409589    15.060959   \n",
      "std     125.338794    66.256028      61.119149    29.317331    55.757415   \n",
      "min       0.000000     0.000000       0.000000     0.000000     0.000000   \n",
      "25%       0.000000     0.000000       0.000000     0.000000     0.000000   \n",
      "50%       0.000000    25.000000       0.000000     0.000000     0.000000   \n",
      "75%     168.000000    68.000000       0.000000     0.000000     0.000000   \n",
      "max     857.000000   547.000000     552.000000   508.000000   480.000000   \n",
      "\n",
      "          PoolArea       MiscVal       MoSold       YrSold      SalePrice  \n",
      "count  1460.000000   1460.000000  1460.000000  1460.000000    1460.000000  \n",
      "mean      2.758904     43.489041     6.321918  2007.815753  180921.195890  \n",
      "std      40.177307    496.123024     2.703626     1.328095   79442.502883  \n",
      "min       0.000000      0.000000     1.000000  2006.000000   34900.000000  \n",
      "25%       0.000000      0.000000     5.000000  2007.000000  129975.000000  \n",
      "50%       0.000000      0.000000     6.000000  2008.000000  163000.000000  \n",
      "75%       0.000000      0.000000     8.000000  2009.000000  214000.000000  \n",
      "max     738.000000  15500.000000    12.000000  2010.000000  755000.000000  \n",
      "\n",
      "[8 rows x 38 columns]\n",
      "   Id  MSSubClass MSZoning  LotFrontage  LotArea Street Alley LotShape  \\\n",
      "0   1          60       RL         65.0     8450   Pave   NaN      Reg   \n",
      "1   2          20       RL         80.0     9600   Pave   NaN      Reg   \n",
      "2   3          60       RL         68.0    11250   Pave   NaN      IR1   \n",
      "3   4          70       RL         60.0     9550   Pave   NaN      IR1   \n",
      "4   5          60       RL         84.0    14260   Pave   NaN      IR1   \n",
      "\n",
      "  LandContour Utilities  ... PoolArea PoolQC Fence MiscFeature MiscVal MoSold  \\\n",
      "0         Lvl    AllPub  ...        0    NaN   NaN         NaN       0      2   \n",
      "1         Lvl    AllPub  ...        0    NaN   NaN         NaN       0      5   \n",
      "2         Lvl    AllPub  ...        0    NaN   NaN         NaN       0      9   \n",
      "3         Lvl    AllPub  ...        0    NaN   NaN         NaN       0      2   \n",
      "4         Lvl    AllPub  ...        0    NaN   NaN         NaN       0     12   \n",
      "\n",
      "  YrSold  SaleType  SaleCondition  SalePrice  \n",
      "0   2008        WD         Normal     208500  \n",
      "1   2007        WD         Normal     181500  \n",
      "2   2008        WD         Normal     223500  \n",
      "3   2006        WD        Abnorml     140000  \n",
      "4   2008        WD         Normal     250000  \n",
      "\n",
      "[5 rows x 81 columns]\n"
     ]
    }
   ],
   "source": [
    "print(home_data.columns)\n",
    "print(home_data.describe())\n",
    "print(home_data.head())"
   ]
  },
  {
   "cell_type": "markdown",
   "id": "5234d47d",
   "metadata": {
    "papermill": {
     "duration": 0.004102,
     "end_time": "2023-01-29T14:31:31.829442",
     "exception": false,
     "start_time": "2023-01-29T14:31:31.825340",
     "status": "completed"
    },
    "tags": []
   },
   "source": [
    "## Step 3\n",
    "Get x and y data"
   ]
  },
  {
   "cell_type": "code",
   "execution_count": 4,
   "id": "89663988",
   "metadata": {
    "execution": {
     "iopub.execute_input": "2023-01-29T14:31:31.839815Z",
     "iopub.status.busy": "2023-01-29T14:31:31.839364Z",
     "iopub.status.idle": "2023-01-29T14:31:31.872529Z",
     "shell.execute_reply": "2023-01-29T14:31:31.870549Z"
    },
    "papermill": {
     "duration": 0.042546,
     "end_time": "2023-01-29T14:31:31.876272",
     "exception": false,
     "start_time": "2023-01-29T14:31:31.833726",
     "status": "completed"
    },
    "tags": []
   },
   "outputs": [
    {
     "name": "stdout",
     "output_type": "stream",
     "text": [
      "        Id  MSSubClass  LotFrontage  LotArea  OverallQual  OverallCond  \\\n",
      "299    300          20         80.0    14000            6            8   \n",
      "341    342          20         60.0     8400            4            4   \n",
      "1119  1120          20         70.0     7560            5            5   \n",
      "774    775          20        110.0    14226            8            5   \n",
      "761    762          30         60.0     6911            5            5   \n",
      "\n",
      "      YearBuilt  YearRemodAdd  MasVnrArea  BsmtFinSF1  ...  GarageArea  \\\n",
      "299        1950          2004         0.0           0  ...         300   \n",
      "341        1950          1950         0.0           0  ...         294   \n",
      "1119       1959          1959         0.0         369  ...         286   \n",
      "774        2006          2006       375.0           0  ...         895   \n",
      "761        1924          1950         0.0         405  ...         440   \n",
      "\n",
      "      WoodDeckSF  OpenPorchSF  EnclosedPorch  3SsnPorch  ScreenPorch  \\\n",
      "299            0           36              0          0            0   \n",
      "341          250            0             24          0            0   \n",
      "1119         140            0            252          0            0   \n",
      "774          315           45              0          0            0   \n",
      "761            0            0              0          0            0   \n",
      "\n",
      "      PoolArea  MiscVal  MoSold  YrSold  \n",
      "299          0        0       8    2009  \n",
      "341          0        0       9    2009  \n",
      "1119         0        0       7    2006  \n",
      "774          0        0       7    2007  \n",
      "761          0        0      10    2009  \n",
      "\n",
      "[5 rows x 37 columns]\n"
     ]
    }
   ],
   "source": [
    "my_imputer = SimpleImputer()\n",
    "features = [col for col in home_data.columns if home_data[col].dtype != 'object' \n",
    "           and col != 'SalePrice']\n",
    "X = home_data[features]\n",
    "y = home_data['SalePrice']\n",
    "\n",
    "train_X, val_X, train_y, val_y = train_test_split(X, y)\n",
    "train_X_imputed = my_imputer.fit_transform(train_X)\n",
    "val_X_imputed = my_imputer.fit_transform(val_X)\n",
    "print(train_X.head())"
   ]
  },
  {
   "cell_type": "markdown",
   "id": "ff1eff18",
   "metadata": {
    "papermill": {
     "duration": 0.004043,
     "end_time": "2023-01-29T14:31:31.884964",
     "exception": false,
     "start_time": "2023-01-29T14:31:31.880921",
     "status": "completed"
    },
    "tags": []
   },
   "source": [
    "## Step 4\n",
    "Create Random Forest Model"
   ]
  },
  {
   "cell_type": "code",
   "execution_count": 5,
   "id": "76530de2",
   "metadata": {
    "execution": {
     "iopub.execute_input": "2023-01-29T14:31:31.897068Z",
     "iopub.status.busy": "2023-01-29T14:31:31.895921Z",
     "iopub.status.idle": "2023-01-29T14:31:33.161715Z",
     "shell.execute_reply": "2023-01-29T14:31:33.160797Z"
    },
    "papermill": {
     "duration": 1.274449,
     "end_time": "2023-01-29T14:31:33.164866",
     "exception": false,
     "start_time": "2023-01-29T14:31:31.890417",
     "status": "completed"
    },
    "tags": []
   },
   "outputs": [
    {
     "data": {
      "text/plain": [
       "RandomForestRegressor(random_state=1)"
      ]
     },
     "execution_count": 5,
     "metadata": {},
     "output_type": "execute_result"
    }
   ],
   "source": [
    "housing_model = RandomForestRegressor(random_state=1)\n",
    "housing_model.fit(train_X_imputed, train_y)"
   ]
  },
  {
   "cell_type": "markdown",
   "id": "69718798",
   "metadata": {
    "papermill": {
     "duration": 0.005626,
     "end_time": "2023-01-29T14:31:33.176969",
     "exception": false,
     "start_time": "2023-01-29T14:31:33.171343",
     "status": "completed"
    },
    "tags": []
   },
   "source": [
    "## Step 5\n",
    "Predict house prices"
   ]
  },
  {
   "cell_type": "code",
   "execution_count": 6,
   "id": "6e6a6129",
   "metadata": {
    "execution": {
     "iopub.execute_input": "2023-01-29T14:31:33.188701Z",
     "iopub.status.busy": "2023-01-29T14:31:33.187569Z",
     "iopub.status.idle": "2023-01-29T14:31:33.218126Z",
     "shell.execute_reply": "2023-01-29T14:31:33.215882Z"
    },
    "papermill": {
     "duration": 0.043279,
     "end_time": "2023-01-29T14:31:33.224768",
     "exception": false,
     "start_time": "2023-01-29T14:31:33.181489",
     "status": "completed"
    },
    "tags": []
   },
   "outputs": [
    {
     "name": "stdout",
     "output_type": "stream",
     "text": [
      "16718.590986301366\n"
     ]
    }
   ],
   "source": [
    "house_price_predictions = housing_model.predict(val_X_imputed)\n",
    "print(mean_absolute_error(house_price_predictions, val_y))"
   ]
  },
  {
   "cell_type": "markdown",
   "id": "e2879d5e",
   "metadata": {
    "papermill": {
     "duration": 0.005064,
     "end_time": "2023-01-29T14:31:33.236613",
     "exception": false,
     "start_time": "2023-01-29T14:31:33.231549",
     "status": "completed"
    },
    "tags": []
   },
   "source": [
    "## Step 6\n",
    "Test model with test.csv"
   ]
  },
  {
   "cell_type": "code",
   "execution_count": 7,
   "id": "10d23aa9",
   "metadata": {
    "execution": {
     "iopub.execute_input": "2023-01-29T14:31:33.248455Z",
     "iopub.status.busy": "2023-01-29T14:31:33.248039Z",
     "iopub.status.idle": "2023-01-29T14:31:33.327504Z",
     "shell.execute_reply": "2023-01-29T14:31:33.326221Z"
    },
    "papermill": {
     "duration": 0.089681,
     "end_time": "2023-01-29T14:31:33.330997",
     "exception": false,
     "start_time": "2023-01-29T14:31:33.241316",
     "status": "completed"
    },
    "tags": []
   },
   "outputs": [],
   "source": [
    "test_data_path = 'input/home-data-for-ml-course/test.csv'\n",
    "X_test = pd.read_csv(test_data_path)\n",
    "X_test_fixed = X_test[features]\n",
    "X_test_fixed_imputed = my_imputer.fit_transform(X_test_fixed)\n",
    "test_predictions = housing_model.predict(X_test_fixed_imputed)"
   ]
  },
  {
   "attachments": {},
   "cell_type": "markdown",
   "id": "1d8e9fe7",
   "metadata": {},
   "source": [
    "## Step 7\n",
    "Output the results"
   ]
  },
  {
   "cell_type": "code",
   "execution_count": 8,
   "id": "34b0c0d7",
   "metadata": {
    "execution": {
     "iopub.execute_input": "2023-01-29T14:31:33.347251Z",
     "iopub.status.busy": "2023-01-29T14:31:33.346513Z",
     "iopub.status.idle": "2023-01-29T14:31:33.359878Z",
     "shell.execute_reply": "2023-01-29T14:31:33.358414Z"
    },
    "papermill": {
     "duration": 0.024387,
     "end_time": "2023-01-29T14:31:33.362654",
     "exception": false,
     "start_time": "2023-01-29T14:31:33.338267",
     "status": "completed"
    },
    "tags": []
   },
   "outputs": [],
   "source": [
    "# Run the code to save predictions in the format used for competition scoring\n",
    "\n",
    "output = pd.DataFrame({'Id': X_test.Id,\n",
    "                       'SalePrice': test_predictions})\n",
    "output.to_csv('output/submission.csv', index=False)"
   ]
  }
 ],
 "metadata": {
  "kernelspec": {
   "display_name": "Python 3",
   "language": "python",
   "name": "python3"
  },
  "language_info": {
   "codemirror_mode": {
    "name": "ipython",
    "version": 3
   },
   "file_extension": ".py",
   "mimetype": "text/x-python",
   "name": "python",
   "nbconvert_exporter": "python",
   "pygments_lexer": "ipython3",
   "version": "3.10.9"
  },
  "papermill": {
   "default_parameters": {},
   "duration": 12.287397,
   "end_time": "2023-01-29T14:31:34.089303",
   "environment_variables": {},
   "exception": null,
   "input_path": "__notebook__.ipynb",
   "output_path": "__notebook__.ipynb",
   "parameters": {},
   "start_time": "2023-01-29T14:31:21.801906",
   "version": "2.3.4"
  },
  "vscode": {
   "interpreter": {
    "hash": "3f72621edeadd3591f1a405e22c4b1f6b6b13b4c15d352ac85c2b0dd717b7c82"
   }
  }
 },
 "nbformat": 4,
 "nbformat_minor": 5
}
